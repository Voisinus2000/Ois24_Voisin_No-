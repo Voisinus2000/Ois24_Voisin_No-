{
  "nbformat": 4,
  "nbformat_minor": 0,
  "metadata": {
    "colab": {
      "name": "Notebook_pour_imagerie_thermique.ipynb",
      "provenance": [],
      "include_colab_link": true
    },
    "kernelspec": {
      "name": "python3",
      "display_name": "Python 3"
    },
    "language_info": {
      "name": "python"
    }
  },
  "cells": [
    {
      "cell_type": "markdown",
      "metadata": {
        "id": "view-in-github",
        "colab_type": "text"
      },
      "source": [
        "<a href=\"https://colab.research.google.com/github/Voisinus2000/Ois24_Voisin_No-/blob/main/Notebook_pour_imagerie_thermique.ipynb\" target=\"_parent\"><img src=\"https://colab.research.google.com/assets/colab-badge.svg\" alt=\"Open In Colab\"/></a>"
      ]
    },
    {
      "cell_type": "markdown",
      "metadata": {
        "id": "_aqUP-2duP9N"
      },
      "source": [
        "**Notebook_pour_imagerie_thermique.ipynb**\n",
        "\n",
        "L. Halloran\n",
        "\n",
        "Ceci est un notebook pour colab (https://colab.research.google.com/) pour vous aider à traiter vos données dans la première partie de l'activité \"imagerie thermique\". Si vous avez des questions, n'hésitez pas à en discuter avec l'encadrant..\n",
        "\n",
        "ATTENTION: Sauvegardez vos modifications... ça ne se fait pas automatiquement. 😲\n"
      ]
    },
    {
      "cell_type": "markdown",
      "metadata": {
        "id": "dy9uw0gYoVAg"
      },
      "source": [
        "Importer les modules qu'il nous faut..."
      ]
    },
    {
      "cell_type": "code",
      "metadata": {
        "id": "Ozp4cddejxOO"
      },
      "source": [
        "import numpy as np\n",
        "import pandas as pd\n",
        "import matplotlib.pyplot as plt\n",
        "from scipy.stats import norm\n",
        "\n",
        "from scipy.optimize import curve_fit"
      ],
      "execution_count": 1,
      "outputs": []
    },
    {
      "cell_type": "code",
      "metadata": {
        "id": "V8RBQpP-kG4G"
      },
      "source": [
        "#Use to import the file into google Colab drive\n",
        "from google.colab import files\n",
        "#Use to import io, which opens the file from the Colab drive\n",
        "import io"
      ],
      "execution_count": 2,
      "outputs": []
    },
    {
      "cell_type": "markdown",
      "metadata": {
        "id": "gEOQ59uZliYJ"
      },
      "source": [
        "ici, vous allez uploader votre fichier..."
      ]
    },
    {
      "cell_type": "code",
      "metadata": {
        "colab": {
          "base_uri": "https://localhost:8080/",
          "height": 90
        },
        "id": "_uhuGDPDkIbM",
        "outputId": "3e1c1b0c-572f-4e5e-8df4-e41f2e93d351"
      },
      "source": [
        "uploaded = files.upload()\n"
      ],
      "execution_count": 3,
      "outputs": [
        {
          "output_type": "display_data",
          "data": {
            "text/plain": [
              "<IPython.core.display.HTML object>"
            ],
            "text/html": [
              "\n",
              "     <input type=\"file\" id=\"files-2f84427d-f79e-4ba0-9b6e-d2eb3faf7360\" name=\"files[]\" multiple disabled\n",
              "        style=\"border:none\" />\n",
              "     <output id=\"result-2f84427d-f79e-4ba0-9b6e-d2eb3faf7360\">\n",
              "      Upload widget is only available when the cell has been executed in the\n",
              "      current browser session. Please rerun this cell to enable.\n",
              "      </output>\n",
              "      <script>// Copyright 2017 Google LLC\n",
              "//\n",
              "// Licensed under the Apache License, Version 2.0 (the \"License\");\n",
              "// you may not use this file except in compliance with the License.\n",
              "// You may obtain a copy of the License at\n",
              "//\n",
              "//      http://www.apache.org/licenses/LICENSE-2.0\n",
              "//\n",
              "// Unless required by applicable law or agreed to in writing, software\n",
              "// distributed under the License is distributed on an \"AS IS\" BASIS,\n",
              "// WITHOUT WARRANTIES OR CONDITIONS OF ANY KIND, either express or implied.\n",
              "// See the License for the specific language governing permissions and\n",
              "// limitations under the License.\n",
              "\n",
              "/**\n",
              " * @fileoverview Helpers for google.colab Python module.\n",
              " */\n",
              "(function(scope) {\n",
              "function span(text, styleAttributes = {}) {\n",
              "  const element = document.createElement('span');\n",
              "  element.textContent = text;\n",
              "  for (const key of Object.keys(styleAttributes)) {\n",
              "    element.style[key] = styleAttributes[key];\n",
              "  }\n",
              "  return element;\n",
              "}\n",
              "\n",
              "// Max number of bytes which will be uploaded at a time.\n",
              "const MAX_PAYLOAD_SIZE = 100 * 1024;\n",
              "\n",
              "function _uploadFiles(inputId, outputId) {\n",
              "  const steps = uploadFilesStep(inputId, outputId);\n",
              "  const outputElement = document.getElementById(outputId);\n",
              "  // Cache steps on the outputElement to make it available for the next call\n",
              "  // to uploadFilesContinue from Python.\n",
              "  outputElement.steps = steps;\n",
              "\n",
              "  return _uploadFilesContinue(outputId);\n",
              "}\n",
              "\n",
              "// This is roughly an async generator (not supported in the browser yet),\n",
              "// where there are multiple asynchronous steps and the Python side is going\n",
              "// to poll for completion of each step.\n",
              "// This uses a Promise to block the python side on completion of each step,\n",
              "// then passes the result of the previous step as the input to the next step.\n",
              "function _uploadFilesContinue(outputId) {\n",
              "  const outputElement = document.getElementById(outputId);\n",
              "  const steps = outputElement.steps;\n",
              "\n",
              "  const next = steps.next(outputElement.lastPromiseValue);\n",
              "  return Promise.resolve(next.value.promise).then((value) => {\n",
              "    // Cache the last promise value to make it available to the next\n",
              "    // step of the generator.\n",
              "    outputElement.lastPromiseValue = value;\n",
              "    return next.value.response;\n",
              "  });\n",
              "}\n",
              "\n",
              "/**\n",
              " * Generator function which is called between each async step of the upload\n",
              " * process.\n",
              " * @param {string} inputId Element ID of the input file picker element.\n",
              " * @param {string} outputId Element ID of the output display.\n",
              " * @return {!Iterable<!Object>} Iterable of next steps.\n",
              " */\n",
              "function* uploadFilesStep(inputId, outputId) {\n",
              "  const inputElement = document.getElementById(inputId);\n",
              "  inputElement.disabled = false;\n",
              "\n",
              "  const outputElement = document.getElementById(outputId);\n",
              "  outputElement.innerHTML = '';\n",
              "\n",
              "  const pickedPromise = new Promise((resolve) => {\n",
              "    inputElement.addEventListener('change', (e) => {\n",
              "      resolve(e.target.files);\n",
              "    });\n",
              "  });\n",
              "\n",
              "  const cancel = document.createElement('button');\n",
              "  inputElement.parentElement.appendChild(cancel);\n",
              "  cancel.textContent = 'Cancel upload';\n",
              "  const cancelPromise = new Promise((resolve) => {\n",
              "    cancel.onclick = () => {\n",
              "      resolve(null);\n",
              "    };\n",
              "  });\n",
              "\n",
              "  // Wait for the user to pick the files.\n",
              "  const files = yield {\n",
              "    promise: Promise.race([pickedPromise, cancelPromise]),\n",
              "    response: {\n",
              "      action: 'starting',\n",
              "    }\n",
              "  };\n",
              "\n",
              "  cancel.remove();\n",
              "\n",
              "  // Disable the input element since further picks are not allowed.\n",
              "  inputElement.disabled = true;\n",
              "\n",
              "  if (!files) {\n",
              "    return {\n",
              "      response: {\n",
              "        action: 'complete',\n",
              "      }\n",
              "    };\n",
              "  }\n",
              "\n",
              "  for (const file of files) {\n",
              "    const li = document.createElement('li');\n",
              "    li.append(span(file.name, {fontWeight: 'bold'}));\n",
              "    li.append(span(\n",
              "        `(${file.type || 'n/a'}) - ${file.size} bytes, ` +\n",
              "        `last modified: ${\n",
              "            file.lastModifiedDate ? file.lastModifiedDate.toLocaleDateString() :\n",
              "                                    'n/a'} - `));\n",
              "    const percent = span('0% done');\n",
              "    li.appendChild(percent);\n",
              "\n",
              "    outputElement.appendChild(li);\n",
              "\n",
              "    const fileDataPromise = new Promise((resolve) => {\n",
              "      const reader = new FileReader();\n",
              "      reader.onload = (e) => {\n",
              "        resolve(e.target.result);\n",
              "      };\n",
              "      reader.readAsArrayBuffer(file);\n",
              "    });\n",
              "    // Wait for the data to be ready.\n",
              "    let fileData = yield {\n",
              "      promise: fileDataPromise,\n",
              "      response: {\n",
              "        action: 'continue',\n",
              "      }\n",
              "    };\n",
              "\n",
              "    // Use a chunked sending to avoid message size limits. See b/62115660.\n",
              "    let position = 0;\n",
              "    do {\n",
              "      const length = Math.min(fileData.byteLength - position, MAX_PAYLOAD_SIZE);\n",
              "      const chunk = new Uint8Array(fileData, position, length);\n",
              "      position += length;\n",
              "\n",
              "      const base64 = btoa(String.fromCharCode.apply(null, chunk));\n",
              "      yield {\n",
              "        response: {\n",
              "          action: 'append',\n",
              "          file: file.name,\n",
              "          data: base64,\n",
              "        },\n",
              "      };\n",
              "\n",
              "      let percentDone = fileData.byteLength === 0 ?\n",
              "          100 :\n",
              "          Math.round((position / fileData.byteLength) * 100);\n",
              "      percent.textContent = `${percentDone}% done`;\n",
              "\n",
              "    } while (position < fileData.byteLength);\n",
              "  }\n",
              "\n",
              "  // All done.\n",
              "  yield {\n",
              "    response: {\n",
              "      action: 'complete',\n",
              "    }\n",
              "  };\n",
              "}\n",
              "\n",
              "scope.google = scope.google || {};\n",
              "scope.google.colab = scope.google.colab || {};\n",
              "scope.google.colab._files = {\n",
              "  _uploadFiles,\n",
              "  _uploadFilesContinue,\n",
              "};\n",
              "})(self);\n",
              "</script> "
            ]
          },
          "metadata": {}
        },
        {
          "output_type": "stream",
          "name": "stdout",
          "text": [
            "Saving Donnés.xlsx to Donnés.xlsx\n"
          ]
        }
      ]
    },
    {
      "cell_type": "markdown",
      "metadata": {
        "id": "LzV2G-4Fl_BZ"
      },
      "source": [
        "maintenant, on convertit le fichier à un \"data frame\". On le fera pour chaque onglet de votre fichier excel..."
      ]
    },
    {
      "cell_type": "code",
      "metadata": {
        "id": "Nv1sBXn9lhKq"
      },
      "source": [
        "data1 = pd.read_excel('Donnés.xlsx','12mm') # changez le nom du fichier et les noms des onglets/feuilles\n",
        "data2 = pd.read_excel('Donnés.xlsx','23mm')\n",
        "data3 = pd.read_excel('Donnés.xlsx','32mm')\n",
        "data4 = pd.read_excel('Donnés.xlsx','43mm')\n",
        "data5 = pd.read_excel('Donnés.xlsx','53mm')\n",
        "data6 = pd.read_excel('Donnés.xlsx','62mm')\n",
        "# etc.\n"
      ],
      "execution_count": 6,
      "outputs": []
    },
    {
      "cell_type": "markdown",
      "metadata": {
        "id": "lS8esJVlrhX1"
      },
      "source": [
        "ceci efface le fichier uploadé (si vous voulez re-uploader un autre avec le même nom, par exemple)"
      ]
    },
    {
      "cell_type": "code",
      "metadata": {
        "colab": {
          "base_uri": "https://localhost:8080/"
        },
        "id": "spK90ZC3rtdM",
        "outputId": "123bff32-58ba-4490-bbcb-9f9c66f4c9d1"
      },
      "source": [
        "!rm {'exemple_T.xlsx'}"
      ],
      "execution_count": null,
      "outputs": [
        {
          "output_type": "stream",
          "text": [
            "rm: cannot remove 'exemple_T.xlsx': No such file or directory\n"
          ],
          "name": "stdout"
        }
      ]
    },
    {
      "cell_type": "markdown",
      "metadata": {
        "id": "_JNE5Y4Nmr94"
      },
      "source": [
        "on verifie ce qu'on a uploadé..."
      ]
    },
    {
      "cell_type": "code",
      "metadata": {
        "colab": {
          "base_uri": "https://localhost:8080/"
        },
        "id": "F21TB0YAmAhS",
        "outputId": "27ca3c7d-afc6-4112-d285-122dd2095436"
      },
      "source": [
        "print(data1)\n",
        "print(data2)\n",
        "print(data3)\n",
        "print(data4)\n",
        "print(data5)\n",
        "print(data6)\n",
        "# etc."
      ],
      "execution_count": 7,
      "outputs": [
        {
          "output_type": "stream",
          "name": "stdout",
          "text": [
            "    temps (s) (+-1s)  T (degC)  delta T (degC)\n",
            "0                  0      24.0             0.0\n",
            "1                 20      34.3            10.3\n",
            "2                 35      38.2            14.2\n",
            "3                 50      39.2            15.2\n",
            "4                 65      38.2            14.2\n",
            "5                 90      37.6            13.6\n",
            "6                105      36.1            12.1\n",
            "7                120      35.6            11.6\n",
            "8                150      34.7            10.7\n",
            "9                180      33.8             9.8\n",
            "10               210      33.0             9.0\n",
            "11               240      32.5             8.5\n",
            "12               270      31.6             7.6\n",
            "13               300      31.5             7.5\n",
            "14               330      30.9             6.9\n",
            "15               360      30.9             6.9\n",
            "16               390      30.2             6.2\n",
            "17               420      30.0             6.0\n",
            "    temps (s) (+-1s)  T (degC)  delta T (degC)\n",
            "0                  0      24.0             0.0\n",
            "1                 20      28.0             4.0\n",
            "2                 35      28.2             4.2\n",
            "3                 50      29.4             5.4\n",
            "4                 65      30.3             6.3\n",
            "5                 90      31.5             7.5\n",
            "6                105      31.5             7.5\n",
            "7                120      31.9             7.9\n",
            "8                150      32.2             8.2\n",
            "9                180      31.5             7.5\n",
            "10               210      31.3             7.3\n",
            "11               240      31.3             7.3\n",
            "12               270      30.5             6.5\n",
            "13               300      30.4             6.4\n",
            "14               330      30.4             6.4\n",
            "15               360      29.8             5.8\n",
            "16               390      30.0             6.0\n",
            "17               420      29.3             5.3\n",
            "    temps (s) (+-1s)  T (degC)  delta T (degC)\n",
            "0                  0      24.0             0.0\n",
            "1                 20      27.1             3.1\n",
            "2                 35      26.4             2.4\n",
            "3                 50      26.6             2.6\n",
            "4                 65      26.9             2.9\n",
            "5                 90      27.5             3.5\n",
            "6                105      27.6             3.6\n",
            "7                120      28.7             4.7\n",
            "8                150      29.0             5.0\n",
            "9                180      29.4             5.4\n",
            "10               210      29.4             5.4\n",
            "11               240      29.4             5.4\n",
            "12               270      29.3             5.3\n",
            "13               300      29.3             5.3\n",
            "14               330      29.5             5.5\n",
            "15               360      28.9             4.9\n",
            "16               390      28.6             4.6\n",
            "17               420      28.9             4.9\n",
            "    temps (s) (+-1s)  T (degC)  delta T (degC)\n",
            "0                  0      24.0             0.0\n",
            "1                 20      26.2             2.2\n",
            "2                 35      26.1             2.1\n",
            "3                 50      26.0             2.0\n",
            "4                 65      25.9             1.9\n",
            "5                 90      26.2             2.2\n",
            "6                105      26.1             2.1\n",
            "7                120      26.6             2.6\n",
            "8                150      26.7             2.7\n",
            "9                180      27.2             3.2\n",
            "10               210      27.3             3.3\n",
            "11               240      27.9             3.9\n",
            "12               270      27.5             3.5\n",
            "13               300      27.4             3.4\n",
            "14               330      27.8             3.8\n",
            "15               360      28.1             4.1\n",
            "16               390      27.6             3.6\n",
            "17               420      27.4             3.4\n",
            "    temps (s) (+-1s)  T (degC)  delta T (degC)\n",
            "0                  0      24.0             0.0\n",
            "1                 20      26.1             2.1\n",
            "2                 35      25.7             1.7\n",
            "3                 50      25.7             1.7\n",
            "4                 65      25.5             1.5\n",
            "5                 90      25.4             1.4\n",
            "6                105      25.6             1.6\n",
            "7                120      25.2             1.2\n",
            "8                150      25.5             1.5\n",
            "9                180      26.1             2.1\n",
            "10               210      26.4             2.4\n",
            "11               240      26.3             2.3\n",
            "12               270      26.3             2.3\n",
            "13               300      26.5             2.5\n",
            "14               330      26.9             2.9\n",
            "15               360      26.8             2.8\n",
            "16               390      26.3             2.3\n",
            "17               420      26.5             2.5\n",
            "    temps (s) (+-1s)  T (degC)  delta T (degC)\n",
            "0                  0      24.0             0.0\n",
            "1                 20      25.9             1.9\n",
            "2                 35      25.3             1.3\n",
            "3                 50      25.4             1.4\n",
            "4                 65      25.0             1.0\n",
            "5                 90      25.1             1.1\n",
            "6                105      25.3             1.3\n",
            "7                120      25.1             1.1\n",
            "8                150      25.2             1.2\n",
            "9                180      25.5             1.5\n",
            "10               210      25.3             1.3\n",
            "11               240      25.6             1.6\n",
            "12               270      25.5             1.5\n",
            "13               300      25.9             1.9\n",
            "14               330      25.6             1.6\n",
            "15               360      25.7             1.7\n",
            "16               390      25.9             1.9\n",
            "17               420      25.9             1.9\n"
          ]
        }
      ]
    },
    {
      "cell_type": "markdown",
      "metadata": {
        "id": "JK2NqYRznQqH"
      },
      "source": [
        "pour selectioner les données qu'il vous faut pour l'ajustement de courbes...\n",
        "il faut ecrire le nom exacte que vous avez donné aux colonnes de temperature et temps, e.g., `'temps (s)'`"
      ]
    },
    {
      "cell_type": "code",
      "metadata": {
        "id": "WLrx-vKom84m"
      },
      "source": [
        "deltaT = data5['delta T (degC)'] # deltaT = T - T0\n",
        "temps = data5['temps (s) (+-1s)']\n",
        "\n",
        "# ici on enleve la première valeur (ça ne marchera pas avec l'équation car division par 0)...\n",
        "deltaT = deltaT[1:]\n",
        "temps = temps[1:]"
      ],
      "execution_count": 86,
      "outputs": []
    },
    {
      "cell_type": "markdown",
      "metadata": {
        "id": "kHz_yvmdn4X5"
      },
      "source": [
        "Definir l'equation a ajuster. NOTEZ: changez la valeur de x (ici 0.01 m) pour correspondre avec les données selectionnées (e.g., x=10mm)."
      ]
    },
    {
      "cell_type": "code",
      "metadata": {
        "id": "h5sOWm-VoIgP"
      },
      "source": [
        "def function_for_fit(t,alpha,c0): #eqn. 48, avec x = 10 mm. il faudra changer cet x pour chaque x different. n'oublie pas qu'on utilise des unitées SI (donc metres pas centimetres)\n",
        "    return c0/(np.sqrt(4*np.pi*alpha*t) ) * np.exp( -0.053**2/(4*alpha*t) )"
      ],
      "execution_count": 97,
      "outputs": []
    },
    {
      "cell_type": "markdown",
      "metadata": {
        "id": "u7j5q7mCtBjs"
      },
      "source": [
        "Voir si ce qu'on a fait a du sens. Ici on fait juste une figure avec des valeurs choisis au hazard pour vérifier que l'équation ci-dessus est bien."
      ]
    },
    {
      "cell_type": "code",
      "metadata": {
        "colab": {
          "base_uri": "https://localhost:8080/",
          "height": 537
        },
        "id": "ZE9h84A8sARF",
        "outputId": "893534ff-507e-4126-92d9-3d3ddca3d90a"
      },
      "source": [
        "test_t = np.arange(600)\n",
        "plt.plot(test_t,function_for_fit(test_t,1E-6,10)) # test plot avec alpha = 1E-6 m^2/s et c0 = 10 degC."
      ],
      "execution_count": 93,
      "outputs": [
        {
          "output_type": "stream",
          "name": "stderr",
          "text": [
            "<ipython-input-92-d559e91ca084>:2: RuntimeWarning: divide by zero encountered in divide\n",
            "  return c0/(np.sqrt(4*np.pi*alpha*t) ) * np.exp( -0.012**2/(4*alpha*t) )\n",
            "<ipython-input-92-d559e91ca084>:2: RuntimeWarning: invalid value encountered in multiply\n",
            "  return c0/(np.sqrt(4*np.pi*alpha*t) ) * np.exp( -0.012**2/(4*alpha*t) )\n"
          ]
        },
        {
          "output_type": "execute_result",
          "data": {
            "text/plain": [
              "[<matplotlib.lines.Line2D at 0x78c0e41a6610>]"
            ]
          },
          "metadata": {},
          "execution_count": 93
        },
        {
          "output_type": "display_data",
          "data": {
            "text/plain": [
              "<Figure size 640x480 with 1 Axes>"
            ],
            "image/png": "[encoded data removed]"
          },
          "metadata": {}
        }
      ]
    },
    {
      "cell_type": "markdown",
      "metadata": {
        "id": "PYDTfdZatJoU"
      },
      "source": [
        "faire l'ajustement de courbe"
      ]
    },
    {
      "cell_type": "code",
      "metadata": {
        "id": "tlfeAIRotJG6",
        "outputId": "4e7c538a-7c78-4dee-ef77-d0223604cf5f",
        "colab": {
          "base_uri": "https://localhost:8080/"
        }
      },
      "source": [
        "popt, pcov = curve_fit(function_for_fit, temps, deltaT)\n",
        "#OPTIONEL...\n",
        "#popt, pcov = curve_fit(function_for_fit, temps, deltaT, p0=[3E6,0.5]) #p0 c'est les valeurs initiales de l'ajustement. vous pouvez les changer si l'ajustement de courbe échoue.\n",
        "\n",
        "print(popt)\n",
        "print(pcov)"
      ],
      "execution_count": 94,
      "outputs": [
        {
          "output_type": "stream",
          "name": "stdout",
          "text": [
            "[4.03857454e-07 1.15202386e-01]\n",
            "[[ 9.82632532e-15 -1.26385205e-10]\n",
            " [-1.26385205e-10  1.21433089e-04]]\n"
          ]
        }
      ]
    },
    {
      "cell_type": "markdown",
      "metadata": {
        "id": "gi1yw3gDtN09"
      },
      "source": [
        "notre fonction a 2 parametres (alpha et c0). c'est alpha qui nous interesse. popt contient les valeurs, pvar contient les variances de ces valeurs."
      ]
    },
    {
      "cell_type": "code",
      "metadata": {
        "id": "sDd-KVyStNcT",
        "colab": {
          "base_uri": "https://localhost:8080/"
        },
        "outputId": "9df55884-9118-4591-c271-a9ca76b5b347"
      },
      "source": [
        "alpha_fit = popt[0]\n",
        "alpha_ecart_type = np.sqrt(pcov[0,0])\n",
        "c0_fit = popt[1]\n",
        "c0_ecart_type = np.sqrt(pcov[1,1])\n",
        "print('alpha = '+ str(alpha_fit))\n",
        "print('alpha ecart type = '+ str(alpha_ecart_type))\n",
        "print('c0 = '+ str(c0_fit))\n",
        "print('c0 ecart type'+ str(c0_ecart_type))\n"
      ],
      "execution_count": 95,
      "outputs": [
        {
          "output_type": "stream",
          "name": "stdout",
          "text": [
            "alpha = 4.03857454016894e-07\n",
            "alpha ecart type = 9.912782313855432e-08\n",
            "c0 = 0.11520238642634203\n",
            "c0 ecart type0.011019668268021254\n"
          ]
        }
      ]
    },
    {
      "cell_type": "markdown",
      "source": [
        "Maintenant faites une figure de vos données et la courbe ajustée..."
      ],
      "metadata": {
        "id": "_ArFehd9okwx"
      }
    },
    {
      "cell_type": "code",
      "source": [
        "fig, ax = plt.subplots(1,1,figsize=(8,6))\n",
        "ax.plot(temps,deltaT,'ko')\n",
        "timeforgraph = np.arange(600)\n",
        "ax.plot(function_for_fit(timeforgraph,alpha_fit,c0_fit),'#9467bd')\n",
        "ax.set_xlabel('Temps [s]')\n",
        "ax.set_ylabel('Différence de température [°C]')\n",
        "plt.title('Hauteur de mesure 6 (62mm)')\n"
      ],
      "metadata": {
        "id": "dwqw0rNAnq7Q",
        "colab": {
          "base_uri": "https://localhost:8080/",
          "height": 634
        },
        "outputId": "74d70109-e939-4f3c-c3e9-49ae750be9f7"
      },
      "execution_count": 96,
      "outputs": [
        {
          "output_type": "stream",
          "name": "stderr",
          "text": [
            "<ipython-input-92-d559e91ca084>:2: RuntimeWarning: divide by zero encountered in divide\n",
            "  return c0/(np.sqrt(4*np.pi*alpha*t) ) * np.exp( -0.012**2/(4*alpha*t) )\n",
            "<ipython-input-92-d559e91ca084>:2: RuntimeWarning: invalid value encountered in multiply\n",
            "  return c0/(np.sqrt(4*np.pi*alpha*t) ) * np.exp( -0.012**2/(4*alpha*t) )\n"
          ]
        },
        {
          "output_type": "execute_result",
          "data": {
            "text/plain": [
              "Text(0.5, 1.0, 'Hauteur de mesure 6 (62mm)')"
            ]
          },
          "metadata": {},
          "execution_count": 96
        },
        {
          "output_type": "display_data",
          "data": {
            "text/plain": [
              "<Figure size 800x600 with 1 Axes>"
            ],
            "image/png": "[encoded data removed]"
          },
          "metadata": {}
        }
      ]
    },
    {
      "cell_type": "markdown",
      "metadata": {
        "id": "9EupsAzWuFSj"
      },
      "source": [
        "maintenant notez ces valeurs et refaire ces derniers etapes pour chaque distance x..."
      ]
    },
    {
      "cell_type": "code",
      "source": [],
      "metadata": {
        "id": "nRfm1VmenpKO",
        "colab": {
          "base_uri": "https://localhost:8080/",
          "height": 637
        },
        "outputId": "8889d250-00b2-4a78-b5e2-88b292653aa3"
      },
      "execution_count": 31,
      "outputs": [
        {
          "output_type": "stream",
          "name": "stderr",
          "text": [
            "<ipython-input-15-d559e91ca084>:2: RuntimeWarning: divide by zero encountered in divide\n",
            "  return c0/(np.sqrt(4*np.pi*alpha*t) ) * np.exp( -0.012**2/(4*alpha*t) )\n",
            "<ipython-input-15-d559e91ca084>:2: RuntimeWarning: invalid value encountered in multiply\n",
            "  return c0/(np.sqrt(4*np.pi*alpha*t) ) * np.exp( -0.012**2/(4*alpha*t) )\n"
          ]
        },
        {
          "output_type": "execute_result",
          "data": {
            "text/plain": [
              "Text(0.5, 1.0, 'Hauteur de mesure 1 (12mm)')"
            ]
          },
          "metadata": {},
          "execution_count": 31
        },
        {
          "output_type": "display_data",
          "data": {
            "text/plain": [
              "<Figure size 800x600 with 1 Axes>"
            ],
            "image/png": "[encoded data removed]"
          },
          "metadata": {}
        }
      ]
    },
    {
      "cell_type": "code",
      "source": [],
      "metadata": {
        "id": "oVR7nBzgfYQf"
      },
      "execution_count": null,
      "outputs": []
    }
  ]
}